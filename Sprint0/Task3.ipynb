{
 "cells": [
  {
   "cell_type": "markdown",
   "metadata": {},
   "source": [
    "<h1 style=\"color:DodgerBlue\">Индивидальный проект</h1>"
   ]
  },
  {
   "cell_type": "markdown",
   "metadata": {},
   "source": [
    "<h2 style=\"color:DodgerBlue\">Название проекта:</h2>\n",
    "\n",
    "----\n",
    "\n",
    "### Вариант задания  № 2\n",
    "\n"
   ]
  },
  {
   "cell_type": "markdown",
   "metadata": {},
   "source": [
    "<h2 style=\"color:DodgerBlue\">Описание проекта:</h2>\n",
    "\n",
    "----\n",
    "\n",
    "Описание задачи:\n",
    "Создать базовый класс Student в C#, который будет представлять информацию о \n",
    "студентах. На основе этого класса разработать 2-3 производных класса, \n",
    "демонстрирующих принципы наследования и полиморфизма. В каждом из классов \n",
    "должны быть реализованы новые атрибуты и методы, а также переопределены \n",
    "некоторые методы базового класса для демонстрации полиморфизма.\n",
    "Требования к базовому классу Student:\n",
    "• Атрибуты: Имя (Name), Возраст (Age), Курс (Course).\n",
    "• Методы:\n",
    "o GetInfo(): метод для получения информации о студенте в виде строки.\n",
    "o Study(): метод для вывода сообщения о том, что студент учится.\n",
    "o TakeExam(): метод для вывода сообщения о сдаче экзамена.\n",
    "Требования к производным классам:\n",
    "1. Студент бакалавриата (BachelorStudent): Должен содержать дополнительные \n",
    "атрибуты, такие как Специальность (Specialty). Метод Study() должен быть \n",
    "переопределен для добавления информации о специальности при изучении \n",
    "предмета.\n",
    "2. Студент магистратуры (MasterStudent): Должен содержать дополнительные \n",
    "атрибуты, такие как Научный руководитель (ScientificAdvisor). \n",
    "Метод TakeExam() должен быть переопределен для добавления \n",
    "информации о научном руководителе при сдаче экзамена.\n",
    "3. Аспирант (PhDStudent) (если требуется третий класс): Должен содержать \n",
    "дополнительные атрибуты, такие как Тема диссертации (DissertationTopic). \n",
    "Метод Study() должен быть переопределен для добавления информации о \n",
    "теме диссертации при изучении предмета\n"
   ]
  },
  {
   "cell_type": "markdown",
   "metadata": {},
   "source": [
    "<h2 style=\"color:DodgerBlue\">Реализация:</h2>\n",
    "\n",
    "----"
   ]
  },
  {
   "cell_type": "code",
   "execution_count": 2,
   "metadata": {
    "dotnet_interactive": {
     "language": "csharp"
    },
    "polyglot_notebook": {
     "kernelName": "csharp"
    }
   },
   "outputs": [],
   "source": [
    "using System;\n",
    "\n",
    "public class Student\n",
    "{\n",
    "    public string Name { get; set; }\n",
    "    public int Age { get; set; }\n",
    "    public int Course { get; set; }\n",
    "\n",
    "    public Student(string name, int age, int course)\n",
    "    {\n",
    "        Name = name;\n",
    "        Age = age;\n",
    "        Course = course;\n",
    "    }\n",
    "\n",
    "    public virtual string GetInfo()\n",
    "    {\n",
    "        return $\"Студент: {Name}, Возраст: {Age}, Курс: {Course}\";\n",
    "    }\n",
    "\n",
    "    public virtual void Study()\n",
    "    {\n",
    "        Console.WriteLine($\"{Name} учится.\");\n",
    "    }\n",
    "\n",
    "    public virtual void TakeExam()\n",
    "    {\n",
    "        Console.WriteLine($\"{Name} сдаёт экзамен.\");\n",
    "    }\n",
    "}\n",
    "\n",
    "// Производный класс для студентов бакалавриата\n",
    "public class BachelorStudent : Student\n",
    "{\n",
    "    public string Specialty { get; set; }\n",
    "\n",
    "    public BachelorStudent(string name, int age, int course, string specialty)\n",
    "        : base(name, age, course)\n",
    "    {\n",
    "        Specialty = specialty;\n",
    "    }\n",
    "\n",
    "    public override string GetInfo()\n",
    "    {\n",
    "        return base.GetInfo() + $\", Специальность: {Specialty}\";\n",
    "    }\n",
    "\n",
    "    public override void Study()\n",
    "    {\n",
    "        Console.WriteLine($\"{Name} учится по специальности {Specialty}.\");\n",
    "    }\n",
    "}\n",
    "\n",
    "// Производный класс для студентов магистратуры\n",
    "public class MasterStudent : Student\n",
    "{\n",
    "    public string ScientificAdvisor { get; set; }\n",
    "\n",
    "    public MasterStudent(string name, int age, int course, string scientificAdvisor)\n",
    "        : base(name, age, course)\n",
    "    {\n",
    "        ScientificAdvisor = scientificAdvisor;\n",
    "    }\n",
    "\n",
    "    public override string GetInfo()\n",
    "    {\n",
    "        return base.GetInfo() + $\", Научный руководитель: {ScientificAdvisor}\";\n",
    "    }\n",
    "\n",
    "    public override void TakeExam()\n",
    "    {\n",
    "        Console.WriteLine($\"{Name} сдаёт экзамен под руководством {ScientificAdvisor}.\");\n",
    "    }\n",
    "}\n",
    "\n",
    "// Производный класс для аспирантов\n",
    "public class PhDStudent : Student\n",
    "{\n",
    "    public string DissertationTopic { get; set; }\n",
    "\n",
    "    public PhDStudent(string name, int age, int course, string dissertationTopic)\n",
    "        : base(name, age, course)\n",
    "    {\n",
    "        DissertationTopic = dissertationTopic;\n",
    "    }\n",
    "\n",
    "    public override string GetInfo()\n",
    "    {\n",
    "        return base.GetInfo() + $\", Тема диссертации: {DissertationTopic}\";\n",
    "    }\n",
    "\n",
    "    public override void Study()\n",
    "    {\n",
    "        Console.WriteLine($\"{Name} учится и проводит исследования по теме: {DissertationTopic}.\");\n",
    "    }\n",
    "}\n",
    "\n",
    "\n",
    "\n",
    "        BachelorStudent bachelor = new BachelorStudent(\"Иван\", 20, 2, \"Информатика\");\n",
    "        MasterStudent master = new MasterStudent(\"Мария\", 24, 1, \"Проф. Сидоров\");\n",
    "        PhDStudent phd = new PhDStudent(\"Алексей\", 28, 3, \"Машинное обучение\");\n",
    "\n",
    "        // Используем методы GetInfo\n",
    "        Console.WriteLine(bachelor.GetInfo());\n",
    "        Console.WriteLine(master.GetInfo());\n",
    "        Console.WriteLine(phd.GetInfo());\n",
    "\n",
    "        // Демонстрация полиморфизма\n",
    "        bachelor.Study();\n",
    "        master.TakeExam();\n",
    "        phd.Study();\n",
    "  "
   ]
  }
 ],
 "metadata": {
  "kernelspec": {
   "display_name": ".NET (C#)",
   "language": "C#",
   "name": ".net-csharp"
  },
  "polyglot_notebook": {
   "kernelInfo": {
    "defaultKernelName": "csharp",
    "items": [
     {
      "aliases": [],
      "languageName": "csharp",
      "name": "csharp"
     }
    ]
   }
  }
 },
 "nbformat": 4,
 "nbformat_minor": 2
}
